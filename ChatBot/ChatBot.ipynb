{
 "cells": [
  {
   "cell_type": "markdown",
   "id": "2cbeedb7",
   "metadata": {},
   "source": [
    "## Desvendando os Componentes Essenciais de um Chatbot 🤖\n",
    "\n",
    "Chatbots se tornaram ferramentas versáteis, capazes de revolucionar desde o **suporte ao cliente** até a **automação de tarefas** complexas. Mas o que realmente faz um chatbot funcionar? Por trás de cada conversa, existem componentes essenciais que orquestram a interação.\n",
    "\n",
    "Basicamente, um chatbot é composto por:\n",
    "\n",
    "* **Interface de Comunicação:** É a \"cara\" do chatbot, o canal por onde ele interage com o usuário. Pode ser um aplicativo de mensagens (WhatsApp, Telegram), um site, um aplicativo próprio ou até mesmo um dispositivo de voz.\n",
    "* **Motor de Processamento de Linguagem Natural (PLN):** O \"cérebro\" do chatbot. É aqui que a mágica acontece! O PLN permite que o chatbot **compreenda** a linguagem humana (a intenção por trás das palavras), **analise** o que foi dito e **gere** respostas relevantes e coerentes.\n",
    "* **Base de Dados de Conhecimento:** É a \"memória\" do chatbot. Armazena todas as informações, respostas pré-definidas, fluxos de conversa e dados que o chatbot precisa para interagir. Quanto mais rica e bem estruturada, mais inteligente e útil será o chatbot.\n",
    "\n",
    "A **complexidade** e as **capacidades** de um chatbot variam muito, dependendo dos seus objetivos e das tecnologias empregadas. Nos próximos detalhes, vamos explorar cada um desses componentes para entender como eles trabalham juntos.\n"
   ]
  },
  {
   "cell_type": "markdown",
   "id": "ae4deec0",
   "metadata": {},
   "source": [
    "## Motor de Processamento de Linguagem Natural (PLN): O Cérebro do Chatbot 🧠\n",
    "\n",
    "O **Processamento de Linguagem Natural (PLN)**, ou **NLP** (do inglês), é o coração de qualquer chatbot. Ele permite que o sistema **entenda o que o usuário digita** e forneça **respostas relevantes**. Muitos PLN's modernos usam **aprendizado de máquina** para ficarem mais inteligentes com cada interação, adaptando-se e aprimorando suas respostas ao longo do tempo.\n",
    "\n",
    "O PLN opera em uma série de etapas cruciais:\n",
    "\n",
    "* **Tokenização:** Quebra o texto em \"tokens\" (geralmente palavras ou sentenças).\n",
    "* **Pré-processamento de Texto:** Limpa e normaliza o texto, removendo ruídos como caracteres especiais e padronizando capitalização.\n",
    "* **Análise Morfológica:** Entende a estrutura das palavras, identificando sua forma base e características gramaticais (tempo verbal, gênero, etc.).\n",
    "* **Análise Sintática:** Analisa a estrutura das frases, identificando as relações gramaticais entre as palavras.\n",
    "* **Análise Semântica:** Compreende o significado das palavras e frases dentro de um contexto específico.\n",
    "* **Extração de Entidades Nomeadas (NER):** Identifica e classifica informações específicas no texto, como nomes de pessoas, locais e datas.\n",
    "* **Análise de Intenção:** O ponto chave para o chatbot: descobre o que o usuário realmente quer fazer ou perguntar.\n",
    "* **Análise de Sentimento:** Em algumas aplicações, avalia a emoção ou tom da mensagem do usuário.\n",
    "* **Recuperação de Informações:** Busca dados em bases de conhecimento ou fontes externas, se a consulta exigir.\n",
    "* **Geração de Respostas:** Cria a resposta apropriada com base em toda a análise.\n",
    "* **Aprendizado e Melhoria Contínua:** Utiliza interações passadas para refinar e aprimorar as respostas futuras, tornando o chatbot cada vez mais eficaz."
   ]
  },
  {
   "cell_type": "markdown",
   "id": "34489403",
   "metadata": {},
   "source": [
    "## Base de Dados de Conhecimento: A Memória do Chatbot 🧠\n",
    "\n",
    "A **base de dados de conhecimento** é essencial para que um sistema de PLN (Processamento de Linguagem Natural) funcione. Ela é uma **coleção estruturada de informações** que o chatbot usa para entender perguntas e gerar respostas. Pense nela como a \"memória\" do chatbot.\n",
    "\n",
    "### Pontos Chave:\n",
    "\n",
    "* **Natureza e Fontes dos Dados:** Pode incluir texto, números, imagens, etc., vindo de bancos de dados internos, web, documentos e até conversas anteriores.\n",
    "* **Estrutura:** Pode ser organizada de forma estruturada (como um banco de dados relacional) ou não estruturada (como documentos de texto ou NoSQL).\n",
    "* **Organização e Busca:** É crucial que os dados sejam **indexados** para permitir buscas rápidas e precisas.\n",
    "* **Atualização e Manutenção:** Precisa ser atualizada regularmente para que as informações estejam sempre **relevantes e atuais**.\n",
    "* **Integração e Proteção:** Deve integrar dados de várias fontes e, se houver informações confidenciais, garantir a **proteção e privacidade** (seguindo a LGPD, por exemplo).\n",
    "* **Aprendizado e Contexto:** Sistemas avançados usam **aprendizado de máquina** para melhorar a busca de informações e podem manter o **contexto do diálogo** para respostas mais relevantes.\n",
    "* **Escalabilidade:** Precisa ser capaz de crescer à medida que o volume de informações aumenta.\n",
    "\n",
    "A **qualidade e a acessibilidade** dessa base de dados são cruciais, pois influenciam diretamente a precisão e relevância das respostas do chatbot. Uma boa gestão dessa base é fundamental para o sucesso do sistema de PLN."
   ]
  },
  {
   "cell_type": "code",
   "execution_count": 1,
   "id": "f559b57f",
   "metadata": {},
   "outputs": [],
   "source": [
    "import random as rd\n",
    "import nltk\n",
    "from nltk.chat.util import Chat, reflections"
   ]
  },
  {
   "cell_type": "code",
   "execution_count": 2,
   "id": "3aacf945",
   "metadata": {},
   "outputs": [],
   "source": [
    "pares = [\n",
    "    [\n",
    "        r\"Oi|Olá|Oi, tudo bem?\",\n",
    "        [\"Olá! Como posso ajudar você hoje?\", \"Oi! O que você gostaria de saber?\"]\n",
    "    ],\n",
    "    [\n",
    "        r\"Qual é o seu nome?\",\n",
    "        [\"Meu nome é ChatBot, e eu estou aqui para ajudar!\", \"Você pode me chamar de ChatBot.\"]\n",
    "    ],\n",
    "    [\n",
    "        r\"(.*?)\\?\",\n",
    "        [\"Desculpe, não tenho certeza sobre isso. Você pode reformular a pergunta?\", \"Isso é interessante! Mas eu não tenho uma resposta para isso.\"]\n",
    "    ]\n",
    "]"
   ]
  },
  {
   "cell_type": "code",
   "execution_count": 3,
   "id": "03952641",
   "metadata": {},
   "outputs": [],
   "source": [
    "reflexoes = {\n",
    "    \"eu\": \"você\",\n",
    "    \"você\": \"eu\",\n",
    "    \"meu\": \"seu\",\n",
    "    \"seu\": \"meu\",\n",
    "    \"minha\": \"sua\",\n",
    "    \"sua\": \"minha\"\n",
    "}\n",
    "\n",
    "chatbot = Chat(pares, reflections=reflexoes)"
   ]
  },
  {
   "cell_type": "code",
   "execution_count": 5,
   "id": "3f6cdabc",
   "metadata": {},
   "outputs": [
    {
     "name": "stdout",
     "output_type": "stream",
     "text": [
      "ChatBot: Oi! O que você gostaria de saber?\n",
      "ChatBot: None\n",
      "ChatBot: Até logo!\n"
     ]
    }
   ],
   "source": [
    "while True:\n",
    "    user_input = input(\"Você: \")\n",
    "    if user_input.lower() == \"sair\":\n",
    "        print(\"ChatBot: Até logo!\")\n",
    "        break\n",
    "    response = chatbot.respond(user_input)\n",
    "    print(\"ChatBot:\", response)"
   ]
  }
 ],
 "metadata": {
  "kernelspec": {
   "display_name": ".venv",
   "language": "python",
   "name": "python3"
  },
  "language_info": {
   "codemirror_mode": {
    "name": "ipython",
    "version": 3
   },
   "file_extension": ".py",
   "mimetype": "text/x-python",
   "name": "python",
   "nbconvert_exporter": "python",
   "pygments_lexer": "ipython3",
   "version": "3.13.3"
  }
 },
 "nbformat": 4,
 "nbformat_minor": 5
}
