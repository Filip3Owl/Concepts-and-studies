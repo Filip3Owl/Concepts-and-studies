{
 "cells": [
  {
   "cell_type": "markdown",
   "id": "af925145",
   "metadata": {},
   "source": [
    "### Como acessar *Moby Dick* no NLTK?\n",
    "\n",
    "Ao usar:\n",
    "\n",
    "```python\n",
    "from nltk.book import *\n",
    "```\n",
    "\n",
    "O livro **Moby Dick** já é carregado automaticamente como **`text1`**.\n",
    "Você pode usar diretamente:\n",
    "\n",
    "```python\n",
    "text1.concordance(\"monstrous\")\n",
    "```\n",
    "\n",
    "### Resumo dos principais textos:\n",
    "\n",
    "| Objeto | Livro                                |\n",
    "| ------ | ------------------------------------ |\n",
    "| text1  | Moby Dick by Herman Melville         |\n",
    "| text2  | Sense and Sensibility by Jane Austen |\n",
    "| text3  | The Book of Genesis                  |\n",
    "\n"
   ]
  },
  {
   "cell_type": "code",
   "execution_count": 4,
   "id": "4bcd5ef5",
   "metadata": {},
   "outputs": [
    {
     "name": "stdout",
     "output_type": "stream",
     "text": [
      "Displaying 11 of 11 matches:\n",
      "ong the former , one was of a most monstrous size . ... This came towards us , \n",
      "ON OF THE PSALMS . \" Touching that monstrous bulk of the whale or ork we have r\n",
      "ll over with a heathenish array of monstrous clubs and spears . Some were thick\n",
      "d as you gazed , and wondered what monstrous cannibal and savage could ever hav\n",
      "that has survived the flood ; most monstrous and most mountainous ! That Himmal\n",
      "they might scout at Moby Dick as a monstrous fable , or still worse and more de\n",
      "th of Radney .'\" CHAPTER 55 Of the Monstrous Pictures of Whales . I shall ere l\n",
      "ing Scenes . In connexion with the monstrous pictures of whales , I am strongly\n",
      "ere to enter upon those still more monstrous stories of them which are to be fo\n",
      "ght have been rummaged out of this monstrous cabinet there is no telling . But \n",
      "of Whale - Bones ; for Whales of a monstrous size are oftentimes cast up dead u\n"
     ]
    }
   ],
   "source": [
    "from nltk.book import *\n",
    "\n",
    "text1.concordance(\"monstrous\")"
   ]
  },
  {
   "cell_type": "markdown",
   "id": "ea67eb22",
   "metadata": {},
   "source": [
    "### 📖 Diferença no uso da palavra *monstrous*\n",
    "\n",
    "Ao usar a função `concordance(\"monstrous\")` em **diferentes textos**, percebemos usos distintos da palavra.\n",
    "\n",
    "* **Melville (Moby Dick)** usa *monstrous* com conotação **negativa**, ligada a algo assustador ou perigoso.\n",
    "* **Austen (Sense and Sensibility)** usa *monstrous* com conotação **positiva ou intensificadora**, semelhante a *very* (muito).\n",
    "\n",
    "#### 💡 Conclusão:\n",
    "\n",
    "O mesmo termo pode ter **significados diferentes dependendo do autor e do contexto**.\n",
    "\n"
   ]
  },
  {
   "cell_type": "code",
   "execution_count": 6,
   "id": "1c661986",
   "metadata": {},
   "outputs": [
    {
     "name": "stdout",
     "output_type": "stream",
     "text": [
      "true contemptible christian abundant few part mean careful puzzled\n",
      "mystifying passing curious loving wise doleful gamesome singular\n",
      "delightfully perilous fearless\n",
      "very so exceedingly heartily a as good great extremely remarkably\n",
      "sweet vast amazingly\n"
     ]
    }
   ],
   "source": [
    "text1.similar(\"monstrous\")\n",
    "\n",
    "text2.similar(\"monstrous\")"
   ]
  },
  {
   "cell_type": "markdown",
   "id": "a91238ba",
   "metadata": {},
   "source": [
    "O método `common_contexts` permite examinar **contextos compartilhados por duas ou mais palavras** em um corpus.\n",
    "\n",
    "#### ✅ Como usar:\n",
    "\n",
    "* Escreva as palavras entre **colchetes e parênteses**, separadas por vírgula.\n",
    "* Exemplo de uso com as palavras **\"gigantesco\"** e **\"muito\"**:\n",
    "\n",
    "```python\n",
    "text1.common_contexts([\"gigantesco\", \"muito\"])\n",
    "```\n",
    "\n",
    "#### 💡 Observação:\n",
    "\n",
    "Esse método mostra **os contextos em que ambas as palavras aparecem, destacando semelhanças de uso.**\n",
    "\n"
   ]
  },
  {
   "cell_type": "code",
   "execution_count": 10,
   "id": "c6049d7e",
   "metadata": {},
   "outputs": [
    {
     "name": "stdout",
     "output_type": "stream",
     "text": [
      "am_glad a_pretty a_lucky is_pretty be_glad\n"
     ]
    }
   ],
   "source": [
    "text2.common_contexts([\"monstrous\", \"very\"])"
   ]
  }
 ],
 "metadata": {
  "kernelspec": {
   "display_name": ".venv",
   "language": "python",
   "name": "python3"
  },
  "language_info": {
   "codemirror_mode": {
    "name": "ipython",
    "version": 3
   },
   "file_extension": ".py",
   "mimetype": "text/x-python",
   "name": "python",
   "nbconvert_exporter": "python",
   "pygments_lexer": "ipython3",
   "version": "3.13.3"
  }
 },
 "nbformat": 4,
 "nbformat_minor": 5
}
