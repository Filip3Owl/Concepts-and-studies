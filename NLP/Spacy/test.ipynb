{
 "cells": [
  {
   "cell_type": "code",
   "execution_count": 10,
   "id": "77aa46f8",
   "metadata": {},
   "outputs": [],
   "source": [
    "import spacy\n",
    "from spacy import displacy"
   ]
  },
  {
   "cell_type": "code",
   "execution_count": 7,
   "id": "e47aed94",
   "metadata": {},
   "outputs": [],
   "source": [
    "nlp = spacy.load(\"en_core_web_sm\")"
   ]
  },
  {
   "cell_type": "code",
   "execution_count": 9,
   "id": "923a533a",
   "metadata": {},
   "outputs": [
    {
     "name": "stdout",
     "output_type": "stream",
     "text": [
      "Token: Dancing, POS: NOUN, Lemma: dancing\n",
      "Token: pickles, POS: NOUN, Lemma: pickle\n",
      "Token: whisper, POS: VERB, Lemma: whisper\n",
      "Token: secrets, POS: NOUN, Lemma: secret\n",
      "Token: to, POS: ADP, Lemma: to\n",
      "Token: the, POS: DET, Lemma: the\n",
      "Token: moonlit, POS: ADJ, Lemma: moonlit\n",
      "Token: jellybeans, POS: NOUN, Lemma: jellybean\n",
      "Token: ., POS: PUNCT, Lemma: .\n"
     ]
    }
   ],
   "source": [
    "y = nlp(u\"Dancing pickles whisper secrets to the moonlit jellybeans.\")\n",
    "\n",
    "# Obtaining info\n",
    "\n",
    "for token in y:\n",
    "    print(f\"Token: {token.text}, POS: {token.pos_}, Lemma: {token.lemma_}\")"
   ]
  },
  {
   "cell_type": "code",
   "execution_count": 26,
   "id": "4ea97ace",
   "metadata": {},
   "outputs": [
    {
     "name": "stdout",
     "output_type": "stream",
     "text": [
      "Pipeline ['tok2vec', 'tagger', 'parser', 'attribute_ruler', 'lemmatizer', 'ner']\n",
      "Token choose: made\n",
      "Aspect=Perf|Tense=Past|VerbForm=Part\n"
     ]
    }
   ],
   "source": [
    "# Inflectional morphology\n",
    "\n",
    "import random as rd\n",
    "\n",
    "rd = rd.randint(0,13)\n",
    "\n",
    "x = nlp(u\"The neon giraffe juggled thunderstorms while riding a unicycle made of spaghetti.\")\n",
    "print(\"Pipeline\", nlp.pipe_names)\n",
    "token = x[rd]\n",
    "print('Token choose: {}'.format(token))\n",
    "print(token.morph)"
   ]
  },
  {
   "cell_type": "code",
   "execution_count": 31,
   "id": "b158e2a3",
   "metadata": {},
   "outputs": [
    {
     "name": "stdout",
     "output_type": "stream",
     "text": [
      "Token choose: filled\n",
      "Aspect=Perf|Tense=Past|VerbForm=Part\n",
      "VERB\n"
     ]
    }
   ],
   "source": [
    "# Rule-based morphology\n",
    "\n",
    "z = nlp(u\"The quantum llama hums lullabies to a pocket watch filled with stardust\")\n",
    "print(f\"Token choose: {token}\")\n",
    "print(z[rd].morph)\n",
    "print(z[rd].pos_)\n"
   ]
  },
  {
   "cell_type": "code",
   "execution_count": 36,
   "id": "89b93d0a",
   "metadata": {},
   "outputs": [
    {
     "name": "stdout",
     "output_type": "stream",
     "text": [
      "rule\n",
      "['the', 'librarian', '’s', 'umbrella', 'could', 'predict', 'the', 'weather', ',', 'but', 'only', 'in', 'haiku', '.', 'each', 'time', 'it', 'rain', ',', 'the', 'handle', 'would', 'hum', 'a', '17th', '-', 'century', 'sea', 'shanty', ',', 'and', 'the', 'shelf', 'would', 'sigh', 'in', 'alphabetical', 'order', '.', 'meanwhile', ',', 'a', 'rogue', 'typewriter', 'in', 'the', 'basement', 'keep', 'compose', 'love', 'letter', 'to', 'the', 'moon', ',', 'sign', \"'\", 'Yours', 'in', 'perpetual', 'ink', '.']\n"
     ]
    }
   ],
   "source": [
    "# Lemmatization\n",
    "\n",
    "xyz = nlp(u\"The librarian’s umbrella could predict the weather, but only in haikus. Each time it rained, the handle would hum a 17th-century sea shanty, and the shelves would sigh in alphabetical order. Meanwhile, a rogue typewriter in the basement kept composing love letters to the moon, signed ‘Yours in perpetual ink.\")\n",
    "\n",
    "lemmatizer = nlp.get_pipe(\"lemmatizer\")\n",
    "print(lemmatizer.mode)\n",
    "\n",
    "print([token.lemma_ for token in xyz])"
   ]
  }
 ],
 "metadata": {
  "kernelspec": {
   "display_name": ".venv",
   "language": "python",
   "name": "python3"
  },
  "language_info": {
   "codemirror_mode": {
    "name": "ipython",
    "version": 3
   },
   "file_extension": ".py",
   "mimetype": "text/x-python",
   "name": "python",
   "nbconvert_exporter": "python",
   "pygments_lexer": "ipython3",
   "version": "3.13.3"
  }
 },
 "nbformat": 4,
 "nbformat_minor": 5
}
