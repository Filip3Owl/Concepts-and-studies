{
 "cells": [
  {
   "cell_type": "markdown",
   "id": "0787d725",
   "metadata": {},
   "source": [
    "\n",
    "\n",
    "# Rule-Based Algorithms for Stemming\n",
    "\n",
    "**Rule-based stemming algorithms**, such as the well-known **Porter Stemmer**, are widely used in Natural Language Processing (NLP) to reduce words to their root or base forms.\n",
    "\n",
    "These algorithms operate on a set of **predefined rules and heuristic methods** designed to remove suffixes and transform words. The core principle involves identifying common patterns in word endings and applying a series of rules to strip them. For example, the Porter algorithm has rules specifically for handling plural forms, verb conjugations, and adjective endings.\n",
    "\n",
    "The Porter Stemmer processes words through **multiple phases**, each targeting specific types of suffixes. For instance, an early phase might remove common plurals like \"-s\" or \"-es\", while subsequent phases address verb forms like \"-ing\" or \"-ed,\" and other adjective/adverb suffixes. These rules are applied in a specific order to ensure correct stemming.\n",
    "\n",
    "To illustrate, applying the Porter algorithm to \"running\" would involve removing the \"-ing\" suffix, resulting in \"run.\" Similarly, for \"dogs,\" the algorithm identifies and removes the plural \"-s,\" yielding the root \"dog.\" The algorithm systematically applies its rules, iterating until no further suffixes can be removed.\n",
    "\n"
   ]
  },
  {
   "cell_type": "code",
   "execution_count": 7,
   "id": "cfefd0d2",
   "metadata": {},
   "outputs": [
    {
     "name": "stdout",
     "output_type": "stream",
     "text": [
      "Original word: thinking\n",
      "Lemma: think\n"
     ]
    },
    {
     "name": "stderr",
     "output_type": "stream",
     "text": [
      "[nltk_data] Downloading package wordnet to\n",
      "[nltk_data]     C:\\Users\\Felipe\\AppData\\Roaming\\nltk_data...\n",
      "[nltk_data]   Package wordnet is already up-to-date!\n"
     ]
    }
   ],
   "source": [
    "import nltk # Import the Natural Language Toolkit library.\n",
    "from nltk.stem import WordNetLemmatizer # Import the WordNetLemmatizer from NLTK.\n",
    "\n",
    "nltk.download('wordnet') # Download the WordNet corpus, which the lemmatizer uses for its lexical database.\n",
    "\n",
    "# Create an instance of the lemmatizer.\n",
    "lemmatizer = WordNetLemmatizer()\n",
    "\n",
    "# Example of lemmatizing an English word.\n",
    "word_to_lemmatize = \"thinking\"\n",
    "# Lemmatize the word. 'pos='v'' specifies that the word should be treated as a verb.\n",
    "# This is crucial for correct lemmatization (e.g., 'leaves' as a noun vs. 'leaves' as a verb).\n",
    "lemma_result = lemmatizer.lemmatize(word_to_lemmatize, pos='v')\n",
    "\n",
    "print(\"Original word:\", word_to_lemmatize)\n",
    "print(\"Lemma:\", lemma_result)"
   ]
  },
  {
   "cell_type": "markdown",
   "id": "be351aa4",
   "metadata": {},
   "source": [
    "### Statistical approaches to stemming"
   ]
  },
  {
   "cell_type": "code",
   "execution_count": 8,
   "id": "70cc2bae",
   "metadata": {},
   "outputs": [
    {
     "name": "stderr",
     "output_type": "stream",
     "text": [
      "[nltk_data] Downloading package brown to\n",
      "[nltk_data]     C:\\Users\\Felipe\\AppData\\Roaming\\nltk_data...\n",
      "[nltk_data]   Package brown is already up-to-date!\n"
     ]
    },
    {
     "name": "stdout",
     "output_type": "stream",
     "text": [
      "Analyzing input word: 'running'\n",
      "Relative frequency of stem 'running': 0.000000\n",
      "Relative frequency of stem 'run': 0.000336\n"
     ]
    }
   ],
   "source": [
    "import nltk # Import the Natural Language Toolkit library.\n",
    "from nltk.stem import PorterStemmer # Import PorterStemmer for rule-based stemming.\n",
    "from nltk.corpus import brown # Import the Brown Corpus, a common dataset for linguistic analysis.\n",
    "from nltk.probability import FreqDist # Import FreqDist for calculating frequency distributions.\n",
    "\n",
    "# Download necessary NLTK resources.\n",
    "# 'brown' is required for the corpus.\n",
    "nltk.download('brown')\n",
    "\n",
    "# Create an instance of the stemmer.\n",
    "stemmer = PorterStemmer()\n",
    "\n",
    "# Create a training corpus using NLTK's Brown Corpus.\n",
    "# This will be used to analyze word frequencies.\n",
    "corpus_words = brown.words()\n",
    "\n",
    "# Perform stemming on all words in the training corpus.\n",
    "# This creates a list of all stemmed words from the corpus.\n",
    "stemmed_words_corpus = [stemmer.stem(word) for word in corpus_words]\n",
    "\n",
    "# Calculate the frequency distribution of the stemmed words in the corpus.\n",
    "# This tells us how often each stemmed word appears.\n",
    "stem_frequencies = FreqDist(stemmed_words_corpus)\n",
    "\n",
    "# Define a function to calculate the \"probability\" of a stem.\n",
    "# This is a simplified probability based on observed frequencies in the corpus.\n",
    "# It's more accurately the relative frequency of the radical in the stemmed corpus.\n",
    "def calculate_stem_relative_frequency(observed_form, radical_candidate):\n",
    "    # This function uses the frequency of the 'radical_candidate' in the entire stemmed corpus.\n",
    "    # The 'observed_form' parameter is not directly used in the calculation of probability\n",
    "    # for the radical, but rather to show what form led to the radical.\n",
    "    \n",
    "    # Get the count of the radical candidate in the stemmed corpus.\n",
    "    radical_count = stem_frequencies[radical_candidate]\n",
    "    # Get the total number of stemmed words in the corpus.\n",
    "    total_stemmed_words_count = len(stemmed_words_corpus)\n",
    "    \n",
    "    # Avoid division by zero if the corpus is empty.\n",
    "    if total_stemmed_words_count == 0:\n",
    "        return 0.0\n",
    "        \n",
    "    return radical_count / total_stemmed_words_count\n",
    "\n",
    "# Example usage.\n",
    "input_word = \"running\"\n",
    "# A list of possible radicals for the input word.\n",
    "# In a real scenario, you'd likely generate these using morphological analysis.\n",
    "radical_candidates = [\"running\", \"run\"]\n",
    "\n",
    "print(f\"Analyzing input word: '{input_word}'\")\n",
    "for candidate in radical_candidates:\n",
    "    # Calculate the probability (relative frequency) of each radical candidate.\n",
    "    probability = calculate_stem_relative_frequency(input_word, candidate)\n",
    "    print(f\"Relative frequency of stem '{candidate}': {probability:.6f}\")"
   ]
  }
 ],
 "metadata": {
  "kernelspec": {
   "display_name": ".venv",
   "language": "python",
   "name": "python3"
  },
  "language_info": {
   "codemirror_mode": {
    "name": "ipython",
    "version": 3
   },
   "file_extension": ".py",
   "mimetype": "text/x-python",
   "name": "python",
   "nbconvert_exporter": "python",
   "pygments_lexer": "ipython3",
   "version": "3.13.3"
  }
 },
 "nbformat": 4,
 "nbformat_minor": 5
}
