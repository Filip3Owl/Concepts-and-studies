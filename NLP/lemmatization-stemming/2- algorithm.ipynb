{
 "cells": [
  {
   "cell_type": "markdown",
   "id": "0787d725",
   "metadata": {},
   "source": [
    "\n",
    "\n",
    "# Rule-Based Algorithms for Stemming\n",
    "\n",
    "**Rule-based stemming algorithms**, such as the well-known **Porter Stemmer**, are widely used in Natural Language Processing (NLP) to reduce words to their root or base forms.\n",
    "\n",
    "These algorithms operate on a set of **predefined rules and heuristic methods** designed to remove suffixes and transform words. The core principle involves identifying common patterns in word endings and applying a series of rules to strip them. For example, the Porter algorithm has rules specifically for handling plural forms, verb conjugations, and adjective endings.\n",
    "\n",
    "The Porter Stemmer processes words through **multiple phases**, each targeting specific types of suffixes. For instance, an early phase might remove common plurals like \"-s\" or \"-es\", while subsequent phases address verb forms like \"-ing\" or \"-ed,\" and other adjective/adverb suffixes. These rules are applied in a specific order to ensure correct stemming.\n",
    "\n",
    "To illustrate, applying the Porter algorithm to \"running\" would involve removing the \"-ing\" suffix, resulting in \"run.\" Similarly, for \"dogs,\" the algorithm identifies and removes the plural \"-s,\" yielding the root \"dog.\" The algorithm systematically applies its rules, iterating until no further suffixes can be removed.\n",
    "\n"
   ]
  }
 ],
 "metadata": {
  "language_info": {
   "name": "python"
  }
 },
 "nbformat": 4,
 "nbformat_minor": 5
}
