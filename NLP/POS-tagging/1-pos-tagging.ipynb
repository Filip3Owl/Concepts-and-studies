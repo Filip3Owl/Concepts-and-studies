{
 "cells": [
  {
   "cell_type": "markdown",
   "id": "aa59516b",
   "metadata": {},
   "source": [
    "# POS-TAGGING APLICATION"
   ]
  },
  {
   "cell_type": "markdown",
   "id": "7a1bbbaf",
   "metadata": {},
   "source": [
    "**Part-of-Speech (POS) Tagging** is a fundamental task in Natural Language Processing (NLP) that involves **assigning a grammatical category (or \"tag\") to each word in a given text.**\n",
    "\n",
    "**Objective:** To identify the lexical category of each word, such as noun, verb, adjective, adverb, pronoun, preposition, conjunction, interjection, etc., based on its definition and its context within the sentence.\n",
    "\n",
    "**How it Works:**\n",
    "\n",
    "* **Input:** A sequence of words (a sentence or a chunk of text).\n",
    "* **Output:** A sequence of words, where each word is paired with its corresponding POS tag.\n",
    "\n",
    "**Example:**\n",
    "\n",
    "* **Sentence:** \"The quick brown fox jumps over the lazy dog.\"\n",
    "* **POS Tagged Output:**\n",
    "    * \"The\": Determiner (DT)\n",
    "    * \"quick\": Adjective (JJ)\n",
    "    * \"brown\": Adjective (JJ)\n",
    "    * \"fox\": Noun (NN)\n",
    "    * \"jumps\": Verb (VBZ)\n",
    "    * \"over\": Preposition (IN)\n",
    "    * \"the\": Determiner (DT)\n",
    "    * \"lazy\": Adjective (JJ)\n",
    "    * \"dog\": Noun (NN)\n",
    "\n",
    "**Importance/Applications:**\n",
    "\n",
    "* **Foundation for Higher-Level NLP Tasks:** POS tagging is a crucial preprocessing step for many more complex NLP applications.\n",
    "* **Word Sense Disambiguation:** Helps to understand the correct meaning of a word that might have multiple senses (e.g., \"bank\" as a financial institution vs. \"bank\" as a river bank).\n",
    "* **Syntactic Parsing:** Essential for building parse trees and understanding the grammatical structure of sentences.\n",
    "* **Named Entity Recognition (NER):** Helps to identify proper nouns, locations, organizations, etc.\n",
    "* **Machine Translation:** Provides grammatical information that can guide translation.\n",
    "* **Information Extraction:** Aids in extracting specific data from text.\n",
    "* **Text-to-Speech Systems:** Helps determine pronunciation and intonation (e.g., \"read\" - present vs. past tense).\n",
    "\n",
    "**Challenges:**\n",
    "\n",
    "* **Ambiguity:** Many words can function as different parts of speech depending on the context (e.g., \"book\" as a noun vs. \"book\" as a verb).\n",
    "* **New Words/Slang:** Models need to be robust enough to handle words not seen during training.\n",
    "\n",
    "**Common Approaches:**\n",
    "\n",
    "* **Rule-Based Tagging:** Uses hand-crafted rules based on suffixes, prefixes, and context.\n",
    "* **Stochastic/Statistical Tagging:** Uses probability based on how frequently a word appears with a certain tag and how frequently one tag follows another. (e.g., Hidden Markov Models - HMMs, Maximum Entropy Models).\n",
    "* **Neural Network-Based Tagging:** Uses deep learning models (like RNNs, LSTMs, Transformers) to learn complex patterns from data."
   ]
  },
  {
   "cell_type": "code",
   "execution_count": 1,
   "id": "19c38afe",
   "metadata": {},
   "outputs": [
    {
     "name": "stderr",
     "output_type": "stream",
     "text": [
      "[nltk_data] Downloading package averaged_perceptron_tagger to\n",
      "[nltk_data]     C:\\Users\\Felipe\\AppData\\Roaming\\nltk_data...\n",
      "[nltk_data]   Package averaged_perceptron_tagger is already up-to-\n",
      "[nltk_data]       date!\n",
      "[nltk_data] Downloading package punkt to\n",
      "[nltk_data]     C:\\Users\\Felipe\\AppData\\Roaming\\nltk_data...\n",
      "[nltk_data]   Package punkt is already up-to-date!\n"
     ]
    },
    {
     "data": {
      "text/plain": [
       "[('I', 'PRP'),\n",
       " ('will', 'MD'),\n",
       " ('buy', 'VB'),\n",
       " ('ice', 'JJ'),\n",
       " ('cream', 'NN'),\n",
       " ('.', '.')]"
      ]
     },
     "execution_count": 1,
     "metadata": {},
     "output_type": "execute_result"
    }
   ],
   "source": [
    "import nltk\n",
    "\n",
    "nltk.download('averaged_perceptron_tagger')\n",
    "\n",
    "nltk.download('punkt')\n",
    "\n",
    "text = nltk.word_tokenize(\"I will buy ice cream.\")\n",
    "\n",
    "nltk.pos_tag(text)"
   ]
  },
  {
   "cell_type": "code",
   "execution_count": null,
   "id": "d70708e5",
   "metadata": {},
   "outputs": [],
   "source": []
  }
 ],
 "metadata": {
  "kernelspec": {
   "display_name": ".venv",
   "language": "python",
   "name": "python3"
  },
  "language_info": {
   "codemirror_mode": {
    "name": "ipython",
    "version": 3
   },
   "file_extension": ".py",
   "mimetype": "text/x-python",
   "name": "python",
   "nbconvert_exporter": "python",
   "pygments_lexer": "ipython3",
   "version": "3.13.3"
  }
 },
 "nbformat": 4,
 "nbformat_minor": 5
}
