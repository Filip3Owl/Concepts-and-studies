{
 "cells": [
  {
   "cell_type": "markdown",
   "id": "93b3de8f",
   "metadata": {},
   "source": [
    "# Implementing TF-IDF in Python with nltk"
   ]
  },
  {
   "cell_type": "markdown",
   "id": "8bc3c514",
   "metadata": {},
   "source": [
    "To implement **TF-IDF in Python**, you typically follow a few core steps. First, you need to **preprocess your text documents**, which includes essential techniques like tokenization, stopword removal, and stemming. After preprocessing, you can calculate the TF-IDF scores using `TfidfVectorizer` from `sklearn.feature_extraction.text`. This class efficiently transforms your documents into **TF-IDF feature vectors**, which are then ready for subsequent text analysis tasks such as classification or clustering.\n",
    "\n",
    "---"
   ]
  },
  {
   "cell_type": "code",
   "execution_count": 1,
   "id": "e55e2efe",
   "metadata": {},
   "outputs": [
    {
     "name": "stdout",
     "output_type": "stream",
     "text": [
      "Document: I love to play soccer\n",
      "  love: 0.5385\n",
      "  play: 0.5385\n",
      "  soccer: 0.3606\n",
      "  to: 0.5385\n",
      "\n",
      "Document: Soccer is my favorite sport\n",
      "  favorite: 0.5422\n",
      "  is: 0.4375\n",
      "  my: 0.4375\n",
      "  soccer: 0.3631\n",
      "  sport: 0.4375\n",
      "\n",
      "Document: I enjoy playing soccer with my friends\n",
      "  enjoy: 0.4428\n",
      "  friends: 0.4428\n",
      "  my: 0.3573\n",
      "  playing: 0.4428\n",
      "  soccer: 0.2966\n",
      "  with: 0.4428\n",
      "\n",
      "Document: Football is another popular sport\n",
      "  another: 0.4821\n",
      "  football: 0.4821\n",
      "  is: 0.3890\n",
      "  popular: 0.4821\n",
      "  sport: 0.3890\n",
      "\n",
      "Document: I don't like basketball\n",
      "  basketball: 0.5774\n",
      "  don: 0.5774\n",
      "  like: 0.5774\n",
      "\n"
     ]
    }
   ],
   "source": [
    "import nltk # Imports the Natural Language Toolkit library.\n",
    "from sklearn.feature_extraction.text import TfidfVectorizer # Imports TfidfVectorizer for converting text to TF-IDF features.\n",
    "\n",
    "# Sample documents for demonstration.\n",
    "sample_documents = [\n",
    "    \"I love to play soccer\",\n",
    "    \"Soccer is my favorite sport\",\n",
    "    \"I enjoy playing soccer with my friends\",\n",
    "    \"Football is another popular sport\",\n",
    "    \"I don't like basketball\"\n",
    "]\n",
    "\n",
    "# Create the TF-IDF vectorizer object.\n",
    "# This object will learn the vocabulary and IDF values from the documents,\n",
    "# and then transform the documents into TF-IDF numerical representations.\n",
    "tfidf_vectorizer = TfidfVectorizer()\n",
    "\n",
    "# Compute the TF-IDF scores for the sample documents.\n",
    "# 'fit_transform' first learns the vocabulary and IDF values from 'sample_documents',\n",
    "# then transforms these documents into a sparse matrix of TF-IDF scores.\n",
    "tfidf_scores_matrix = tfidf_vectorizer.fit_transform(sample_documents)\n",
    "\n",
    "# Get the names of the features (terms) from the vectorizer's learned vocabulary.\n",
    "# These correspond to the columns in the TF-IDF matrix.\n",
    "feature_names = tfidf_vectorizer.get_feature_names_out()\n",
    "\n",
    "# Print the TF-IDF scores for each document.\n",
    "# 'enumerate' is used to get both the index (i) and the document content (doc).\n",
    "for i, doc in enumerate(sample_documents):\n",
    "    print(\"Document:\", doc) # Print the original document text.\n",
    "    # 'enumerate' is used again to get the index (j) and the term (feature_name).\n",
    "    for j, term in enumerate(feature_names):\n",
    "        # Access the TF-IDF score for the current document (i) and current term (j).\n",
    "        score = tfidf_scores_matrix[i, j]\n",
    "        # Only print terms that have a non-zero TF-IDF score in the current document.\n",
    "        if score > 0:\n",
    "            print(f\"  {term}: {score:.4f}\") # Format score to 4 decimal places for readability.\n",
    "    print() # Print an empty line for better separation between document outputs."
   ]
  }
 ],
 "metadata": {
  "kernelspec": {
   "display_name": ".venv",
   "language": "python",
   "name": "python3"
  },
  "language_info": {
   "codemirror_mode": {
    "name": "ipython",
    "version": 3
   },
   "file_extension": ".py",
   "mimetype": "text/x-python",
   "name": "python",
   "nbconvert_exporter": "python",
   "pygments_lexer": "ipython3",
   "version": "3.13.3"
  }
 },
 "nbformat": 4,
 "nbformat_minor": 5
}
